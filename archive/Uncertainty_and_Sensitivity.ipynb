{
  "cells": [
    {
      "cell_type": "markdown",
      "metadata": {
        "colab_type": "text",
        "id": "view-in-github"
      },
      "source": [
        "<a href=\"https://colab.research.google.com/github/robproject/lre-sendes/blob/main/Uncertainty_and_Sensitivity.ipynb\" target=\"_parent\"><img src=\"https://colab.research.google.com/assets/colab-badge.svg\" alt=\"Open In Colab\"/></a>"
      ]
    },
    {
      "cell_type": "code",
      "execution_count": null,
      "metadata": {
        "colab": {
          "base_uri": "https://localhost:8080/",
          "height": 541
        },
        "id": "BVEGZ8SxJIhs",
        "outputId": "3ae7d68f-81e1-47b3-b458-2cbdee4cee75"
      },
      "outputs": [],
      "source": [
        "\n",
        "### Absolute value of sensitivity per variable\n",
        "\n",
        "import numpy as np\n",
        "import matplotlib.pyplot as plt\n",
        "\n",
        "# Define variables and their nominal and deviation values\n",
        "vars = ['piston_dia', 'plunger_v', 'pipe_d', 'orifice_d', 'rho', 'p1', 'p2']\n",
        "#       in, in/s, in, in, density, psi, psit\n",
        "\n",
        "nominal_values = np.array([3, 3, 1, .5, 1, 50, 10])\n",
        "deviations = nominal_values * np.array([0.0005, 1, 0.0005, .0005, 0, .5, .5])\n",
        "\n",
        "\n",
        "# Define function to estimate flow rate\n",
        "def cd(piston_dia, v, d1, d2, rho, p1, p2):\n",
        "    return (np.pi * (piston_dia/2)**2 * v) / (np.pi / 4 * d2 **2 * (2 * (p1 - p2))/np.sqrt(rho * (1-(d2/d1)**4)))\n",
        "\n",
        "# Estimate flow rate at nominal values\n",
        "cd_nominal = cd(*nominal_values)\n",
        "\n",
        "# Estimate flow rate at nominal values ± deviation for each variable\n",
        "cd_p = [cd(*(nominal_values + deviations * (np.array(vars) == var))) for var in vars]\n",
        "\n",
        "cd_n = [cd(*(nominal_values - deviations * (np.array(vars) == var))) for var in vars]\n",
        "\n",
        "# Calculate sensitivity for each variable\n",
        "sensitivities = np.array(cd_p) - np.array(cd_n)\n",
        "print(sensitivities)\n",
        "print(cd_p)\n",
        "print(cd_n)\n",
        "\n",
        "\n",
        "\n",
        "# Sort variables by sensitivity\n",
        "indices = np.argsort(np.abs(sensitivities))\n",
        "vars, sensitivities = [np.array(vars)[indices], np.array(sensitivities)[indices]]\n",
        "\n",
        "# Plot tornado diagram\n",
        "bars = plt.barh(vars, sensitivities, color='dodgerblue')\n",
        "plt.xlabel('Change in Cd')\n",
        "plt.title('Tornado Diagram')\n",
        "\n",
        "# Add labels to bar ends\n",
        "for bar, sensitivity in zip(bars, sensitivities):\n",
        "    plt.text(bar.get_width(), bar.get_y() + bar.get_height()/2,\n",
        "             '%.3f' % sensitivity,\n",
        "             va='center', ha='right' if sensitivity > 0 else 'left',\n",
        "             color='black')\n",
        "\n",
        "plt.show()"
      ]
    },
    {
      "cell_type": "code",
      "execution_count": null,
      "metadata": {
        "colab": {
          "base_uri": "https://localhost:8080/",
          "height": 541
        },
        "id": "Hg9h_O7zJ3qk",
        "outputId": "265241f7-abf2-4103-e583-78719714ee22"
      },
      "outputs": [],
      "source": [
        "### Actual value of sensitivity per variable\n",
        "\n",
        "import numpy as np\n",
        "import matplotlib.pyplot as plt\n",
        "\n",
        "# Define variables and their nominal and deviation values\n",
        "vars = ['piston_dia', 'plunger_v', 'pipe_d', 'orifice_d', 'rho', 'p1', 'p2']\n",
        "nominal_values = np.array([3, 3, 1, .5, 1, 50, 10])\n",
        "deviations = nominal_values * np.array([0.0005, 1, 0.0005, .0005, 0, .5, .5])\n",
        "\n",
        "# Define function to estimate flow rate\n",
        "def cd(piston_dia, v, d1, d2, rho, p1, p2):\n",
        "    return (np.pi * (piston_dia/2)**2 * v) / (np.pi / 4 * d2 **2 * (2 * (p1 - p2))/np.sqrt(rho * (1-(d2/d1)**4)))\n",
        "\n",
        "cd_nominal = cd(*nominal_values)\n",
        "cd_p = [cd(*(nominal_values + deviations * (np.array(vars) == var))) for var in vars]\n",
        "cd_n = [cd(*(nominal_values - deviations * (np.array(vars) == var))) for var in vars]\n",
        "\n",
        "sensitivities_pos = np.array(cd_p) - cd_nominal\n",
        "sensitivities_neg = cd_nominal - np.array(cd_n)\n",
        "\n",
        "\n",
        "indices = np.argsort(np.abs(sensitivities_pos + sensitivities_neg))\n",
        "vars, sensitivities_pos, sensitivities_neg = [np.array(vars)[indices], sensitivities_pos[indices], sensitivities_neg[indices]]\n",
        "print(sensitivities_pos)\n",
        "print(sensitivities_neg)\n",
        "fig, ax = plt.subplots()\n",
        "# Plot positive and negative sensitivities separately\n",
        "bars_pos = ax.barh(vars, sensitivities_pos, color='dodgerblue', align='center', label='Positive')\n",
        "bars_neg = ax.barh(vars, -sensitivities_neg, color='red', align='center', label='Negative')\n",
        "\n",
        "# Adjusting the x limits to better visualize bars\n",
        "ax.set_xlim(-max(np.abs(sensitivities_neg)) * 1.1, max(np.abs(sensitivities_pos)) * 2)\n",
        "ax.set_xlabel('Change in Cd')\n",
        "ax.set_title('Tornado Diagram')\n",
        "\n",
        "# Add labels to bar ends for positive sensitivities\n",
        "for bar, sensitivity in zip(bars_pos, sensitivities_pos):\n",
        "    ax.text(bar.get_x() + bar.get_width(), bar.get_y() + bar.get_height()/2,\n",
        "             '%.3f' % sensitivity, va='center', ha='left' if sensitivity > 1 else 'right', color='black')\n",
        "\n",
        "# Add labels to bar ends for negative sensitivities\n",
        "for bar, sensitivity in zip(bars_neg, sensitivities_neg):\n",
        "    ax.text(bar.get_x(), bar.get_y() + bar.get_height()/2,\n",
        "             '-%.3f' % sensitivity, va='center', ha='right' if sensitivity > 1 else 'left', color='black')\n",
        "\n",
        "ax.legend()\n",
        "plt.show()\n"
      ]
    },
    {
      "cell_type": "code",
      "execution_count": null,
      "metadata": {
        "colab": {
          "base_uri": "https://localhost:8080/",
          "height": 1000
        },
        "id": "Frmv7ob7YrWF",
        "outputId": "511881b3-9597-4c87-c6d5-d3d4d02601f8"
      },
      "outputs": [],
      "source": [
        "\n",
        "# Number of simulations\n",
        "N = 10000\n",
        "\n",
        "# Define nominal values and uncertainties for variables\n",
        "nominal_values = {\n",
        "    'Dc': 3, # in\n",
        "    'dx': 4, # in/s\n",
        "    'D1': 1, # in\n",
        "    'D2': .5, # in\n",
        "    'rho': 1, # kg/m^3\n",
        "    'P1': 50, # psi\n",
        "    'P2': 14.75, # psi\n",
        "\n",
        "}\n",
        "\n",
        "uncertainties = {\n",
        "    'Dc': .0005, # in\n",
        "    'dx': .1, # in/s\n",
        "    'D1': 0.0005, # in\n",
        "    'D2': .0005, # in\n",
        "    'rho': 0, # kg/m^3\n",
        "    'P1': .5, # psi\n",
        "    'P2': .5, # psi\n",
        "}\n",
        "\n",
        "# Generate N random samples for each variable, assuming a normal distribution\n",
        "samples = {var: np.random.normal(nominal_values[var], uncertainties[var], N) for var in nominal_values}\n",
        "\n",
        "# Calculate flow rate for each sample\n",
        "Cd_values = (samples['dx'] * (samples['Dc']/2)**2 * np.pi) / (np.pi / 4 * samples['D2']**2 * np.sqrt(2 * (samples['P1'] - samples['P2']) / (samples['rho'] * (1-(samples['D2']-samples['D1'])**4))))\n",
        "print((2 * (samples['P1'] - samples['P2']) / (samples['rho'] * (1-(samples['D2']/samples['D1'])**4))))\n",
        "\n",
        "# Analyze results\n",
        "for var in nominal_values:\n",
        "    plt.figure()\n",
        "    plt.hist2d(samples[var], Cd_values, bins=50, cmap='plasma')\n",
        "    plt.xlabel(var)\n",
        "    plt.ylabel('Cd')\n",
        "    plt.colorbar(label='Number of Samples')\n",
        "    plt.show()\n"
      ]
    },
    {
      "cell_type": "code",
      "execution_count": null,
      "metadata": {
        "colab": {
          "base_uri": "https://localhost:8080/",
          "height": 472
        },
        "id": "EVjQI021XJLS",
        "outputId": "a803f629-6972-4454-ad9a-a9b8b0750a26"
      },
      "outputs": [],
      "source": [
        "import numpy as np\n",
        "import matplotlib.pyplot as plt\n",
        "from scipy.stats import norm\n",
        "\n",
        "# Define constants\n",
        "A = 0.001 # area of the orifice (m^2)\n",
        "rho = 1000 # density of the fluid (kg/m^3)\n",
        "\n",
        "# Define range of variables\n",
        "Cd_values = np.linspace(0.6, 1, 100) # coefficient of discharge\n",
        "DP_values = np.linspace(50, 100, 100) # pressure drop (psi)\n",
        "\n",
        "# Calculate flow rate for each combination of Cd and DP\n",
        "Q_values = np.zeros((100, 100))\n",
        "for i, Cd in enumerate(Cd_values):\n",
        "    for j, DP in enumerate(DP_values):\n",
        "        Q_values[i, j] = Cd * A * np.sqrt((2 * DP) / rho)\n",
        "\n",
        "# Plot results\n",
        "plt.contourf(DP_values, Cd_values, Q_values, levels=20)\n",
        "plt.xlabel('Pressure Drop (psi)')\n",
        "plt.ylabel('Coefficient of Discharge')\n",
        "plt.title('Flow Rate (m^3/s)')\n",
        "plt.colorbar()\n",
        "plt.show()\n"
      ]
    }
  ],
  "metadata": {
    "colab": {
      "include_colab_link": true,
      "provenance": []
    },
    "kernelspec": {
      "display_name": "Python 3",
      "name": "python3"
    },
    "language_info": {
      "name": "python"
    }
  },
  "nbformat": 4,
  "nbformat_minor": 0
}
